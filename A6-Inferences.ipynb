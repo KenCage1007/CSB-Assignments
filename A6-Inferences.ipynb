{
 "cells": [
  {
   "cell_type": "markdown",
   "metadata": {},
   "source": [
    "## Assignment 6 - Inferences"
   ]
  },
  {
   "cell_type": "markdown",
   "metadata": {},
   "source": [
    "### Inferences Demonstration"
   ]
  },
  {
   "cell_type": "markdown",
   "metadata": {},
   "source": [
    "Create functions to demonstrate the following when it receives two premises:   \n",
    "1. Modus Ponens\n",
    "2. Modus Tollens\n",
    "3. Hypothelical Syllogism\n",
    "4. Disjunctive Syllogism\n",
    "5. Addition\n",
    "6. Resolution\n",
    "\n",
    "Create functions to demonstrate the following when it recieves one premise:    \n",
    "1. Simplification\n",
    "\n",
    "Boilerplate code and comments have been left in here to get you started and give you an idea of how to fill out the rest of these.   \n",
    "The following output is the format expected. This is for Modus Ponens:    \n",
    "\n",
    "Modus Ponens: If p implies q, and p is true, then q is true.    \n",
    "Premise 1: Implies(p, q)    \n",
    "Premise 2 (p is true): p    \n",
    "Conclusion (q is true): q    "
   ]
  },
  {
   "cell_type": "code",
   "execution_count": 4,
   "metadata": {},
   "outputs": [
    {
     "name": "stdout",
     "output_type": "stream",
     "text": [
      "Modus Ponens: If p implies q, and p is true, then q is true.\n",
      "Premise 1: Implies(p, q)\n",
      "Premise 2 (p is true): p\n",
      "Conclusion (q is true): q\n",
      "\n"
     ]
    }
   ],
   "source": [
    "# Inferences\n",
    "\n",
    "from sympy.logic.boolalg import Or, Not, And, Implies\n",
    "from sympy.abc import p, q, r\n",
    "\n",
    "def modus_ponens(premise1, premise2):\n",
    "    \"\"\"Modus Ponens: If p implies q, and p is true, then q is true.\n",
    "    Logic Theory: This is a form of direct inference where the antecedent of a conditional statement is affirmed, leading to the affirmation of the consequent.\"\"\"\n",
    "    if premise1 == Implies(p, q) and premise2 == p:\n",
    "        return q\n",
    "\n",
    "def modus_tollens(premise1, premise2):\n",
    "    \"\"\"Modus Tollens: If p implies q, and q is false, then p is false.\n",
    "    Logic Theory: This is a form of indirect inference where the negation of the consequent leads to the negation of the antecedent.\"\"\"\n",
    "    if premise1 == Implies(p, q) and premise2 == Not(q):\n",
    "        return Not(p)\n",
    "\n",
    "def hypothetical_syllogism(premise1, premise2):\n",
    "    \"\"\"Hypothetical Syllogism: If p implies q, and q implies r, then p implies r.\n",
    "    Logic Theory: This rule chains two conditional statements to derive a new conditional statement.\"\"\"\n",
    "    if premise1 == Implies(p, q) and premise2 == Implies(q, r):\n",
    "        return Implies(p, r)\n",
    "\n",
    "def disjunctive_syllogism(premise1, premise2):\n",
    "    \"\"\"Disjunctive Syllogism: If p or q is true, and p is false, then q is true.\n",
    "    Logic Theory: This rule deals with a disjunction, where the falsity of one disjunct leads to the truth of the other.\"\"\"\n",
    "    if premise1 == Or(p, q) and premise2 == Not(p):\n",
    "        return q\n",
    "\n",
    "def addition(premise1, premise2):\n",
    "    \"\"\"Addition: If p is true, then p or q is true.\n",
    "    Logic Theory: This rule states that a proposition implies a disjunction where the proposition is one of the disjuncts.\"\"\"\n",
    "    if premise1 == p:\n",
    "        return Or(p, q)\n",
    "\n",
    "def simplification(premise):\n",
    "    \"\"\"Simplification: If p and q is true, then p is true.\n",
    "    Logic Theory: This rule extracts one component of a conjunction as true.\"\"\"\n",
    "    if premise == And(p, q):\n",
    "        return p\n",
    "\n",
    "def resolution(premise1, premise2):\n",
    "    \"\"\"Resolution: If (p or q) and (not q or r) are true, then p or r is true.\n",
    "    Logic Theory: This is a rule of inference used in propositional logic to simplify disjunctions.\"\"\"\n",
    "    if premise1 == Or(p, q) and premise2 == Or(Not(q), r):\n",
    "        return Or(p, r)\n",
    "\n",
    "# Example usage of the functions\n",
    "premise1 = Implies(p, q)\n",
    "premise2 = Implies(q, r)\n",
    "\n",
    "# Modus Ponens\n",
    "conclusion_mp = modus_ponens(premise1, p)\n",
    "print(\"Modus Ponens: If p implies q, and p is true, then q is true.\")\n",
    "print(\"Premise 1:\", premise1)\n",
    "print(\"Premise 2 (p is true):\", p)\n",
    "print(\"Conclusion (q is true):\", conclusion_mp)\n",
    "print()\n",
    "\n",
    "# The remaining rules can be tested similarly with appropriate premises.\n"
   ]
  },
  {
   "cell_type": "code",
   "execution_count": null,
   "metadata": {},
   "outputs": [],
   "source": []
  }
 ],
 "metadata": {
  "kernelspec": {
   "display_name": ".venv",
   "language": "python",
   "name": "python3"
  },
  "language_info": {
   "codemirror_mode": {
    "name": "ipython",
    "version": 3
   },
   "file_extension": ".py",
   "mimetype": "text/x-python",
   "name": "python",
   "nbconvert_exporter": "python",
   "pygments_lexer": "ipython3",
   "version": "3.9.7"
  },
  "orig_nbformat": 4
 },
 "nbformat": 4,
 "nbformat_minor": 2
}
