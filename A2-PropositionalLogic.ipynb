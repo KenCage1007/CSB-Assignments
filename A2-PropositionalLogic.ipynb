{
 "cells": [
  {
   "cell_type": "markdown",
   "metadata": {},
   "source": [
    "## Assignment 2 - Propositional Logic"
   ]
  },
  {
   "cell_type": "markdown",
   "metadata": {},
   "source": [
    "### 1: Convert the following into logic notation using Python with SymPy. Use both standard notation and using function calls such as Or, And, Implies format as well.\n",
    "1. y or (x and y)\n",
    "2. a implies b\n",
    "3. (m or n) and (r or s)"
   ]
  },
  {
   "cell_type": "code",
   "execution_count": 23,
   "metadata": {},
   "outputs": [],
   "source": [
    "from sympy import *"
   ]
  },
  {
   "cell_type": "code",
   "execution_count": 24,
   "metadata": {},
   "outputs": [
    {
     "name": "stdout",
     "output_type": "stream",
     "text": [
      "Logical expression: y | (y & ~x)\n"
     ]
    }
   ],
   "source": [
    "# 1a. y or (not x and y) standard\n",
    "\n",
    "from sympy import symbols, Or, And, Not\n",
    "\n",
    "# Define logical symbols\n",
    "x, y = symbols('x y')\n",
    "\n",
    "# Logical expression: y or (not x and y)\n",
    "expr = Or(y, And(Not(x), y))\n",
    "\n",
    "print(\"Logical expression:\", expr)\n"
   ]
  },
  {
   "cell_type": "code",
   "execution_count": 25,
   "metadata": {},
   "outputs": [
    {
     "name": "stdout",
     "output_type": "stream",
     "text": [
      "Logical expression using function calls: y | (y & ~x)\n"
     ]
    }
   ],
   "source": [
    "# 1b. y or (not x and y) function calls\n",
    "from sympy import symbols, Or, And, Not\n",
    "\n",
    "# Define logical symbols\n",
    "x, y = symbols('x y')\n",
    "\n",
    "# Logical expression using function calls: y or (not x and y)\n",
    "expr = Or(y, And(Not(x), y))\n",
    "\n",
    "print(\"Logical expression using function calls:\", expr)\n"
   ]
  },
  {
   "cell_type": "code",
   "execution_count": 26,
   "metadata": {},
   "outputs": [
    {
     "name": "stdout",
     "output_type": "stream",
     "text": [
      "Logical expression: Implies(a, b)\n"
     ]
    }
   ],
   "source": [
    "# 2a. a implies b standard\n",
    "from sympy import symbols, Implies\n",
    "\n",
    "# Define logical symbols\n",
    "a, b = symbols('a b')\n",
    "\n",
    "# Logical expression: a implies b\n",
    "expr = Implies(a, b)\n",
    "\n",
    "print(\"Logical expression:\", expr)\n"
   ]
  },
  {
   "cell_type": "code",
   "execution_count": 27,
   "metadata": {},
   "outputs": [
    {
     "name": "stdout",
     "output_type": "stream",
     "text": [
      "Logical expression using function calls: Implies(a, b)\n"
     ]
    }
   ],
   "source": [
    "# 2b. a implies b function calls\n",
    "from sympy import symbols, Implies\n",
    "\n",
    "# Define logical symbols\n",
    "a, b = symbols('a b')\n",
    "\n",
    "# Logical expression using function calls: a implies b\n",
    "expr = Implies(a, b)\n",
    "\n",
    "print(\"Logical expression using function calls:\", expr)\n"
   ]
  },
  {
   "cell_type": "code",
   "execution_count": 28,
   "metadata": {},
   "outputs": [
    {
     "name": "stdout",
     "output_type": "stream",
     "text": [
      "Logical expression: (m | ~n) & (r | ~s)\n"
     ]
    }
   ],
   "source": [
    "# 3a. (m or not n) and (r or not s) standard\n",
    "from sympy import symbols, Or, And, Not\n",
    "\n",
    "# Define logical symbols\n",
    "m, n, r, s = symbols('m n r s')\n",
    "\n",
    "# Logical expression: (m or not n) and (r or not s)\n",
    "expr = And(Or(m, Not(n)), Or(r, Not(s)))\n",
    "\n",
    "print(\"Logical expression:\", expr)\n"
   ]
  },
  {
   "cell_type": "code",
   "execution_count": 29,
   "metadata": {},
   "outputs": [
    {
     "name": "stdout",
     "output_type": "stream",
     "text": [
      "Logical expression using function calls: (m | ~n) & (r | ~s)\n"
     ]
    }
   ],
   "source": [
    "# 3b. (m or not n) and (r or not s) function calls\n",
    "from sympy import symbols, Or, And, Not\n",
    "\n",
    "# Define logical symbols\n",
    "m, n, r, s = symbols('m n r s')\n",
    "\n",
    "# Logical expression using function calls: (m or not n) and (r or not s)\n",
    "expr = And(Or(m, Not(n)), Or(r, Not(s)))\n",
    "\n",
    "print(\"Logical expression using function calls:\", expr)\n"
   ]
  },
  {
   "cell_type": "markdown",
   "metadata": {},
   "source": [
    "### 2: Now create the code for the following and substitute the given true or false values. You can use either format, but keep in mind some of them may require function calls format.\n",
    "1. y or x. y = False, x = True\n",
    "2. (a implies b) or m. a = False, b = True, m = True\n",
    "3. (m or n) and (a or (b and c)). m = True, n = False, a = False, b = True, c = False"
   ]
  },
  {
   "cell_type": "code",
   "execution_count": 30,
   "metadata": {},
   "outputs": [
    {
     "name": "stdout",
     "output_type": "stream",
     "text": [
      "Result: True\n"
     ]
    }
   ],
   "source": [
    "# 1. y | x\n",
    "# Given values\n",
    "y_value = False\n",
    "x_value = True\n",
    "\n",
    "# Logical expression: y | x\n",
    "result = y_value or x_value\n",
    "\n",
    "print(\"Result:\", result)\n"
   ]
  },
  {
   "cell_type": "code",
   "execution_count": 31,
   "metadata": {},
   "outputs": [
    {
     "name": "stdout",
     "output_type": "stream",
     "text": [
      "Result: True\n"
     ]
    }
   ],
   "source": [
    "# 2. (a implies b) or m. a = False, b = True, m = True\n",
    "\n",
    "\n",
    "# Substitute the given values a = False, b = True, and m = True into the expression\n",
    "# Given values\n",
    "a_value = False\n",
    "b_value = True\n",
    "m_value = True\n",
    "\n",
    "# Logical expression: (a implies b) or m\n",
    "result = (a_value <= b_value) or m_value\n",
    "\n",
    "print(\"Result:\", result)\n"
   ]
  },
  {
   "cell_type": "code",
   "execution_count": 32,
   "metadata": {},
   "outputs": [
    {
     "name": "stdout",
     "output_type": "stream",
     "text": [
      "Result: False\n"
     ]
    }
   ],
   "source": [
    "# 3. (m or n) and (a or (b and c)). m = True, n = False, a = False, b = True, c = False\n",
    "\n",
    "\n",
    "# Substitute the given values m = True, n = False, a = False, b = True, and c = False into the expression\n",
    "# Given values\n",
    "m_value = True\n",
    "n_value = False\n",
    "a_value = False\n",
    "b_value = True\n",
    "c_value = False\n",
    "\n",
    "# Logical expression: (m or n) and (a or (b and c))\n",
    "result = (m_value or n_value) and (a_value or (b_value and c_value))\n",
    "\n",
    "print(\"Result:\", result)\n"
   ]
  },
  {
   "cell_type": "code",
   "execution_count": null,
   "metadata": {},
   "outputs": [],
   "source": []
  },
  {
   "cell_type": "markdown",
   "metadata": {},
   "source": [
    "### 3: Create the truth tables for:\n",
    "1. Conjunction\n",
    "2. Disjunction\n",
    "3. Implication\n",
    "4. Exclusive Disjunction\n",
    "5. Truth Table for (y and z) or (not w and not x)\n",
    "\n",
    "There are many ways to do this. You can do it without SymPy, or use SymPy's truth table import and you are free to get as complex as you want. Use x and y variables.\n"
   ]
  },
  {
   "cell_type": "code",
   "execution_count": 33,
   "metadata": {},
   "outputs": [
    {
     "name": "stdout",
     "output_type": "stream",
     "text": [
      "| p | q | p AND q |\n",
      "|---|---|---------|\n",
      "| 0 | 0 |    0    |\n",
      "| 0 | 1 |    0    |\n",
      "| 1 | 0 |    0    |\n",
      "| 1 | 1 |    1    |\n"
     ]
    }
   ],
   "source": [
    "#  Conjunction Truth Table\n",
    "\n",
    "# Define logical symbols\n",
    "p_values = [False, True]\n",
    "q_values = [False, True]\n",
    "\n",
    "# Create a list to store the rows of the truth table\n",
    "truth_table = []\n",
    "\n",
    "# Generate and evaluate the conjunction expression for each combination of truth values\n",
    "for p in p_values:\n",
    "    for q in q_values:\n",
    "        result = p and q\n",
    "        truth_table.append((p, q, result))\n",
    "\n",
    "# Print the truth table\n",
    "print(\"| p | q | p AND q |\")\n",
    "print(\"|---|---|---------|\")\n",
    "for row in truth_table:\n",
    "    print(f\"| {int(row[0])} | {int(row[1])} |    {int(row[2])}    |\")\n"
   ]
  },
  {
   "cell_type": "code",
   "execution_count": 34,
   "metadata": {},
   "outputs": [
    {
     "name": "stdout",
     "output_type": "stream",
     "text": [
      "| p | q | p OR q |\n",
      "|---|---|--------|\n",
      "| 0 | 0 |   0    |\n",
      "| 0 | 1 |   1    |\n",
      "| 1 | 0 |   1    |\n",
      "| 1 | 1 |   1    |\n"
     ]
    }
   ],
   "source": [
    "# Disjunction Truth Table\n",
    "# Define logical symbols\n",
    "p_values = [False, True]\n",
    "q_values = [False, True]\n",
    "\n",
    "# Create a list to store the rows of the truth table\n",
    "truth_table = []\n",
    "\n",
    "# Generate and evaluate the disjunction expression for each combination of truth values\n",
    "for p in p_values:\n",
    "    for q in q_values:\n",
    "        result = p or q\n",
    "        truth_table.append((p, q, result))\n",
    "\n",
    "# Print the truth table\n",
    "print(\"| p | q | p OR q |\")\n",
    "print(\"|---|---|--------|\")\n",
    "for row in truth_table:\n",
    "    print(f\"| {int(row[0])} | {int(row[1])} |   {int(row[2])}    |\")\n"
   ]
  },
  {
   "cell_type": "code",
   "execution_count": 35,
   "metadata": {},
   "outputs": [
    {
     "name": "stdout",
     "output_type": "stream",
     "text": [
      "| p | q | p => q |\n",
      "|---|---|--------|\n",
      "| 0 | 0 |   1    |\n",
      "| 0 | 1 |   1    |\n",
      "| 1 | 0 |   0    |\n",
      "| 1 | 1 |   1    |\n"
     ]
    }
   ],
   "source": [
    "# Implication Truth Table\n",
    "# Define logical symbols\n",
    "p_values = [False, True]\n",
    "q_values = [False, True]\n",
    "\n",
    "# Create a list to store the rows of the truth table\n",
    "truth_table = []\n",
    "\n",
    "# Generate and evaluate the implication expression for each combination of truth values\n",
    "for p in p_values:\n",
    "    for q in q_values:\n",
    "        result = (not p) or q  # Equivalent to p => q\n",
    "        truth_table.append((p, q, result))\n",
    "\n",
    "# Print the truth table\n",
    "print(\"| p | q | p => q |\")\n",
    "print(\"|---|---|--------|\")\n",
    "for row in truth_table:\n",
    "    print(f\"| {int(row[0])} | {int(row[1])} |   {int(row[2])}    |\")\n"
   ]
  },
  {
   "cell_type": "code",
   "execution_count": 36,
   "metadata": {},
   "outputs": [
    {
     "name": "stdout",
     "output_type": "stream",
     "text": [
      "| p | q | p XOR q |\n",
      "|---|---|---------|\n",
      "| 0 | 0 |    0    |\n",
      "| 0 | 1 |    1    |\n",
      "| 1 | 0 |    1    |\n",
      "| 1 | 1 |    0    |\n"
     ]
    }
   ],
   "source": [
    "# Exclusive Disjunction Truth Table\n",
    "# Define logical symbols\n",
    "p_values = [False, True]\n",
    "q_values = [False, True]\n",
    "\n",
    "# Create a list to store the rows of the truth table\n",
    "truth_table = []\n",
    "\n",
    "# Generate and evaluate the exclusive disjunction expression for each combination of truth values\n",
    "for p in p_values:\n",
    "    for q in q_values:\n",
    "        result = (p and not q) or (not p and q)  # Equivalent to p XOR q\n",
    "        truth_table.append((p, q, result))\n",
    "\n",
    "# Print the truth table\n",
    "print(\"| p | q | p XOR q |\")\n",
    "print(\"|---|---|---------|\")\n",
    "for row in truth_table:\n",
    "    print(f\"| {int(row[0])} | {int(row[1])} |    {int(row[2])}    |\")\n"
   ]
  },
  {
   "cell_type": "code",
   "execution_count": 37,
   "metadata": {},
   "outputs": [
    {
     "name": "stdout",
     "output_type": "stream",
     "text": [
      "| w | x | y | z | (y AND z) OR (NOT w AND NOT x) |\n",
      "|---|---|---|---|-------------------------------|\n",
      "| 0 | 0 | 0 | 0 |              1              |\n",
      "| 0 | 0 | 0 | 1 |              1              |\n",
      "| 0 | 0 | 1 | 0 |              1              |\n",
      "| 0 | 0 | 1 | 1 |              1              |\n",
      "| 0 | 1 | 0 | 0 |              0              |\n",
      "| 0 | 1 | 0 | 1 |              0              |\n",
      "| 0 | 1 | 1 | 0 |              0              |\n",
      "| 0 | 1 | 1 | 1 |              1              |\n",
      "| 1 | 0 | 0 | 0 |              0              |\n",
      "| 1 | 0 | 0 | 1 |              0              |\n",
      "| 1 | 0 | 1 | 0 |              0              |\n",
      "| 1 | 0 | 1 | 1 |              1              |\n",
      "| 1 | 1 | 0 | 0 |              0              |\n",
      "| 1 | 1 | 0 | 1 |              0              |\n",
      "| 1 | 1 | 1 | 0 |              0              |\n",
      "| 1 | 1 | 1 | 1 |              1              |\n"
     ]
    }
   ],
   "source": [
    "# Truth Table for (y and z) or (not w and not x)\n",
    "# Define logical symbols\n",
    "w_values = [False, True]\n",
    "x_values = [False, True]\n",
    "y_values = [False, True]\n",
    "z_values = [False, True]\n",
    "\n",
    "# Create a list to store the rows of the truth table\n",
    "truth_table = []\n",
    "\n",
    "# Generate and evaluate the expression for each combination of truth values\n",
    "for w in w_values:\n",
    "    for x in x_values:\n",
    "        for y in y_values:\n",
    "            for z in z_values:\n",
    "                result = (y and z) or (not w and not x)\n",
    "                truth_table.append((w, x, y, z, result))\n",
    "\n",
    "# Print the truth table\n",
    "print(\"| w | x | y | z | (y AND z) OR (NOT w AND NOT x) |\")\n",
    "print(\"|---|---|---|---|-------------------------------|\")\n",
    "for row in truth_table:\n",
    "    print(f\"| {int(row[0])} | {int(row[1])} | {int(row[2])} | {int(row[3])} |              {int(row[4])}              |\")\n"
   ]
  },
  {
   "cell_type": "markdown",
   "metadata": {},
   "source": [
    "### 4: Let p and q be the propositions as seen below:    \n",
    "p: You drive over 65 miles per hour.    \n",
    "q: You get a speeding ticket.     \n",
    "Write these propositions using p and q and logical connectives (including negations)\n",
    "1. You do not drive over 65 miles per hour.\n",
    "2. You will get a speeding ticket if you drive over 65 miles per hour.\n",
    "3. If you do not drive over 65 miles per hour, then you will not get a speeding ticket.\n",
    "4. You get a speeding ticket, but you do not drive over 65 miles per hour."
   ]
  },
  {
   "cell_type": "code",
   "execution_count": 38,
   "metadata": {},
   "outputs": [],
   "source": [
    "# 1 You do not drive over 65 miles per hour.\n",
    "\n",
    "## Answer: ~p"
   ]
  },
  {
   "cell_type": "code",
   "execution_count": 39,
   "metadata": {},
   "outputs": [],
   "source": [
    "# 2 You will get a speeding ticket if you drive over 65 miles per hour.\n",
    "\n",
    "## Answer: p -> q"
   ]
  },
  {
   "cell_type": "code",
   "execution_count": 40,
   "metadata": {},
   "outputs": [],
   "source": [
    "# 3 If you do not drive over 65 miles per hour, then you will not get a speeding ticket.\n",
    "  \n",
    "## Answer: ~p -> ~q"
   ]
  },
  {
   "cell_type": "code",
   "execution_count": 41,
   "metadata": {},
   "outputs": [],
   "source": [
    "# 4 You get a speeding ticket, but you do not drive over 65 miles per hour.\n",
    "\n",
    "\n",
    "## Answer: q & ~p"
   ]
  }
 ],
 "metadata": {
  "kernelspec": {
   "display_name": ".venv",
   "language": "python",
   "name": "python3"
  },
  "language_info": {
   "codemirror_mode": {
    "name": "ipython",
    "version": 3
   },
   "file_extension": ".py",
   "mimetype": "text/x-python",
   "name": "python",
   "nbconvert_exporter": "python",
   "pygments_lexer": "ipython3",
   "version": "3.9.7"
  },
  "orig_nbformat": 4
 },
 "nbformat": 4,
 "nbformat_minor": 2
}
