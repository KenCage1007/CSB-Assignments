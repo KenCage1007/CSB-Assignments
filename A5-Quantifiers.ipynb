{
 "cells": [
  {
   "cell_type": "markdown",
   "metadata": {},
   "source": [
    "## Assignment 5 - Quantifiers"
   ]
  },
  {
   "cell_type": "markdown",
   "metadata": {},
   "source": [
    "### 1 Universal and Existential Quantifiers"
   ]
  },
  {
   "cell_type": "markdown",
   "metadata": {},
   "source": [
    "Demonstrate Universal Quantifiers and Existential Quantifiers using Python code. Create functions:    \n",
    "1. Predicate 1: tests if a number is even\n",
    "2. Predicate 2: tests if a number is positive\n",
    "3. Predicate 3: tests if a number is negative\n",
    "\n",
    "Create two domains: \n",
    "1. Domain 1: list of numbers from 1 to 11 exclusive\n",
    "2. Domain 2: list of the numbers 2, 4, 6, 8\n",
    "\n",
    "Test the following quanifiers:\n",
    "1. Test if all the integers in domain 1 are even\n",
    "2. Test if all the integers in domain 2 are even\n",
    "3. Test if any the integers in domain 1 are positive\n",
    "4. Test if any of the integers in domain 1 are negative\n",
    "\n",
    "When printing your results, be clear what Predicate is being used as well as what is being tested. Print out True or False after that. Output code is given for you to use."
   ]
  },
  {
   "cell_type": "code",
   "execution_count": 2,
   "metadata": {},
   "outputs": [
    {
     "name": "stdout",
     "output_type": "stream",
     "text": [
      "Predicate 1: All numbers in domain 1 are even: False\n",
      "Predicate 1: All numbers in domain 2 are even: True\n",
      "Predicate 2: Any number in domain 1 is positive: True\n",
      "Predicate 3: Any number in domain 1 is negative: False\n"
     ]
    }
   ],
   "source": [
    "# Predicate functions\n",
    "def is_even(x):\n",
    "    \"\"\"Predicate 1: Checks if x is even.\"\"\"\n",
    "    return x % 2 == 0\n",
    "\n",
    "def is_positive(x):\n",
    "    \"\"\"Predicate 2: Checks if x is positive.\"\"\"\n",
    "    return x > 0\n",
    "\n",
    "def is_negative(x):\n",
    "    \"\"\"Predicate 3: Checks if x is negative.\"\"\"\n",
    "    return x < 0\n",
    "\n",
    "# Function to demonstrate quantifiers\n",
    "def demonstrate_quantifiers():\n",
    "    \"\"\"Demonstrates both existential and universal quantifiers using Python.\"\"\"\n",
    "    # Domains\n",
    "    domain1 = list(range(1, 11))  # Numbers from 1 to 10\n",
    "    domain2 = [2, 4, 6, 8]  # Even numbers\n",
    "\n",
    "    # Test quantifiers and print results\n",
    "    # Universal Quantifier (∀x): For all x, x is even (domain 1)\n",
    "    all_even_domain1 = all(is_even(x) for x in domain1)\n",
    "    print(f\"Predicate 1: All numbers in domain 1 are even: {all_even_domain1}\")\n",
    "\n",
    "    # Universal Quantifier (∀x): For all x, x is even (domain 2)\n",
    "    all_even_domain2 = all(is_even(x) for x in domain2)\n",
    "    print(f\"Predicate 1: All numbers in domain 2 are even: {all_even_domain2}\")\n",
    "\n",
    "    # Existential Quantifier (∃x): There exists an x such that x is positive (domain 1)\n",
    "    any_positive_domain1 = any(is_positive(x) for x in domain1)\n",
    "    print(f\"Predicate 2: Any number in domain 1 is positive: {any_positive_domain1}\")\n",
    "\n",
    "    # Existential Quantifier (∃x): There exists an x such that x is negative (domain 1)\n",
    "    any_negative_domain1 = any(is_negative(x) for x in domain1)\n",
    "    print(f\"Predicate 3: Any number in domain 1 is negative: {any_negative_domain1}\")\n",
    "\n",
    "# Run the function to demonstrate quantifiers\n",
    "demonstrate_quantifiers()\n"
   ]
  },
  {
   "cell_type": "markdown",
   "metadata": {},
   "source": [
    "### 2 Uniqueness Quantifier"
   ]
  },
  {
   "cell_type": "markdown",
   "metadata": {},
   "source": [
    "Create a function to test if a number is a prime. Now create a domain with integers from 1 to 10 inclusive. Now determine if there is a unique prime number in the set of integers between 1 to 10. Print out the Predicate and the Uniqueness being checked for along with the True or False."
   ]
  },
  {
   "cell_type": "code",
   "execution_count": 3,
   "metadata": {},
   "outputs": [
    {
     "name": "stdout",
     "output_type": "stream",
     "text": [
      "Predicate: Testing if a number is a prime.\n",
      "Uniqueness: There is a unique prime number between 1 to 10.\n",
      "Result: False\n"
     ]
    }
   ],
   "source": [
    "import math\n",
    "\n",
    "# Predicate function\n",
    "def is_prime(x):\n",
    "    \"\"\"Predicate: Checks if x is a prime number.\"\"\"\n",
    "    if x < 2:\n",
    "        return False\n",
    "    for i in range(2, int(math.sqrt(x)) + 1):\n",
    "        if x % i == 0:\n",
    "            return False\n",
    "    return True\n",
    "\n",
    "# Function to demonstrate the uniqueness quantifier\n",
    "def demonstrate_uniqueness_quantifier():\n",
    "    \"\"\"Demonstrates the uniqueness quantifier (∃!) using Python.\"\"\"\n",
    "    # Domain\n",
    "    domain = range(1, 11)  # Integers from 1 to 10\n",
    "    \n",
    "    # Check for unique prime\n",
    "    primes = [x for x in domain if is_prime(x)]\n",
    "    is_unique_prime = len(primes) == 1\n",
    "    \n",
    "    # Print results\n",
    "    print(f\"Predicate: Testing if a number is a prime.\")\n",
    "    print(f\"Uniqueness: There is a unique prime number between 1 to 10.\")\n",
    "    print(f\"Result: {is_unique_prime}\")\n",
    "\n",
    "# Run the function to demonstrate uniqueness quantifier\n",
    "demonstrate_uniqueness_quantifier()\n"
   ]
  },
  {
   "cell_type": "markdown",
   "metadata": {},
   "source": [
    "### 3 Nested Quantifiers"
   ]
  },
  {
   "cell_type": "markdown",
   "metadata": {},
   "source": [
    "Demonstrate nested quantifiers. Create functions:\n",
    "1. Predicate 1: tests if a number is true\n",
    "2. Predicate 2: tests if a number is positive\n",
    "\n",
    "Create two domains:    \n",
    "x: integers 1 to 10 inclusive    \n",
    "y: integers 1 to 10 inclusive   \n",
    "\n",
    "Demonstrate that \"(∃x ∃y): There exists an even x and a positive y such that x + y = 10\"    \n",
    "Be sure to print the Predicates and quantifier being tested along with the True or False values.\n"
   ]
  },
  {
   "cell_type": "code",
   "execution_count": 4,
   "metadata": {},
   "outputs": [
    {
     "name": "stdout",
     "output_type": "stream",
     "text": [
      "Predicate 1: Testing if a number is even.\n",
      "Predicate 2: Testing if a number is positive.\n",
      "Quantifier: There exists an even x and a positive y such that x + y = 10.\n",
      "Result: True\n"
     ]
    }
   ],
   "source": [
    "# Define the predicate functions\n",
    "def is_even(x):\n",
    "    \"\"\"Predicate: Checks if x is even.\"\"\"\n",
    "    return x % 2 == 0\n",
    "\n",
    "def is_positive(y):\n",
    "    \"\"\"Predicate: Checks if y is positive.\"\"\"\n",
    "    return y > 0\n",
    "\n",
    "# Function to demonstrate nested quantifiers\n",
    "def demonstrate_nested_quantifiers():\n",
    "    \"\"\"Demonstrates nested quantifiers in Python.\"\"\"\n",
    "    # Domains for x and y\n",
    "    domain_x = range(1, 11)  # Integers from 1 to 10 inclusive\n",
    "    domain_y = range(1, 11)  # Integers from 1 to 10 inclusive\n",
    "    \n",
    "    # Nested quantifiers demonstration\n",
    "    result = any(is_even(x) and is_positive(y) and (x + y == 10) for x in domain_x for y in domain_y)\n",
    "    \n",
    "    # Print results\n",
    "    print(f\"Predicate 1: Testing if a number is even.\")\n",
    "    print(f\"Predicate 2: Testing if a number is positive.\")\n",
    "    print(f\"Quantifier: There exists an even x and a positive y such that x + y = 10.\")\n",
    "    print(f\"Result: {result}\")\n",
    "\n",
    "# Run the function to demonstrate nested quantifiers\n",
    "demonstrate_nested_quantifiers()\n"
   ]
  },
  {
   "cell_type": "code",
   "execution_count": null,
   "metadata": {},
   "outputs": [],
   "source": []
  }
 ],
 "metadata": {
  "kernelspec": {
   "display_name": ".venv",
   "language": "python",
   "name": "python3"
  },
  "language_info": {
   "codemirror_mode": {
    "name": "ipython",
    "version": 3
   },
   "file_extension": ".py",
   "mimetype": "text/x-python",
   "name": "python",
   "nbconvert_exporter": "python",
   "pygments_lexer": "ipython3",
   "version": "3.9.7"
  },
  "orig_nbformat": 4
 },
 "nbformat": 4,
 "nbformat_minor": 2
}
