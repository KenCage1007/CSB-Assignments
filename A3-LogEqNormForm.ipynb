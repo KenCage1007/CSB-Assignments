{
 "cells": [
  {
   "cell_type": "markdown",
   "metadata": {},
   "source": [
    "## Assignment 3 - Logical Equivalences & Normal Forms"
   ]
  },
  {
   "cell_type": "markdown",
   "metadata": {},
   "source": [
    "### 1 Tautologies and Contradictions  \n",
    "Create 3 Tautologies and 3 Contradictions of your choice and print the truth tables for them.\n"
   ]
  },
  {
   "cell_type": "code",
   "execution_count": 27,
   "metadata": {},
   "outputs": [],
   "source": [
    "from sympy import *"
   ]
  },
  {
   "cell_type": "code",
   "execution_count": 42,
   "metadata": {},
   "outputs": [],
   "source": [
    "# Tautologies"
   ]
  },
  {
   "cell_type": "code",
   "execution_count": 2,
   "metadata": {},
   "outputs": [],
   "source": [
    "# Contradictions"
   ]
  },
  {
   "cell_type": "markdown",
   "metadata": {},
   "source": [
    "### 2: Logical Equivalences     \n",
    "Create a function that will test for logical equivalence when it is passed two expressions. Then test the following examples that align with the Logical Equivalence Rules:\n",
    "1. Idempotent Laws\n",
    "2. Double Negation Law\n",
    "3. Negation Laws\n",
    "4. Commutative Laws\n",
    "5. Associative Laws\n",
    "6. Distributive Laws\n",
    "7. Absorption Laws\n",
    "8. Conditional Disjunction Equivalence\n",
    "8. DeMorgans Laws\n",
    "\n",
    "My solution required using the Function Calls method of defining expressions."
   ]
  },
  {
   "cell_type": "code",
   "execution_count": 9,
   "metadata": {},
   "outputs": [],
   "source": [
    "# Function that will test for logical equivalence\n",
    "from sympy.logic.boolalg import simplify_logic\n",
    "\n",
    "def test_logical_equivalence(expression1, expression2):\n",
    "    # write code to test for logical equivalence here"
   ]
  },
  {
   "cell_type": "code",
   "execution_count": 44,
   "metadata": {},
   "outputs": [
    {
     "name": "stdout",
     "output_type": "stream",
     "text": [
      "Example 1 - Idempotent Laws:\n"
     ]
    },
    {
     "ename": "NameError",
     "evalue": "name 'test_logical_equivalence' is not defined",
     "output_type": "error",
     "traceback": [
      "\u001b[0;31m---------------------------------------------------------------------------\u001b[0m",
      "\u001b[0;31mNameError\u001b[0m                                 Traceback (most recent call last)",
      "\u001b[1;32m/Users/queencage/Desktop/KC Code CSB301 2023:24/CSB-Assignments/A3-LogEqNormForm.ipynb Cell 8\u001b[0m line \u001b[0;36m7\n\u001b[1;32m      <a href='vscode-notebook-cell:/Users/queencage/Desktop/KC%20Code%20CSB301%202023%3A24/CSB-Assignments/A3-LogEqNormForm.ipynb#X10sZmlsZQ%3D%3D?line=3'>4</a>\u001b[0m \u001b[39m# Example 1: Idempotent Laws\u001b[39;00m\n\u001b[1;32m      <a href='vscode-notebook-cell:/Users/queencage/Desktop/KC%20Code%20CSB301%202023%3A24/CSB-Assignments/A3-LogEqNormForm.ipynb#X10sZmlsZQ%3D%3D?line=4'>5</a>\u001b[0m \u001b[39m###### define expr1 and expr2 here\u001b[39;00m\n\u001b[1;32m      <a href='vscode-notebook-cell:/Users/queencage/Desktop/KC%20Code%20CSB301%202023%3A24/CSB-Assignments/A3-LogEqNormForm.ipynb#X10sZmlsZQ%3D%3D?line=5'>6</a>\u001b[0m \u001b[39mprint\u001b[39m(\u001b[39m\"\u001b[39m\u001b[39mExample 1 - Idempotent Laws:\u001b[39m\u001b[39m\"\u001b[39m)\n\u001b[0;32m----> <a href='vscode-notebook-cell:/Users/queencage/Desktop/KC%20Code%20CSB301%202023%3A24/CSB-Assignments/A3-LogEqNormForm.ipynb#X10sZmlsZQ%3D%3D?line=6'>7</a>\u001b[0m \u001b[39mprint\u001b[39m(test_logical_equivalence(expr1, expr2))\n\u001b[1;32m      <a href='vscode-notebook-cell:/Users/queencage/Desktop/KC%20Code%20CSB301%202023%3A24/CSB-Assignments/A3-LogEqNormForm.ipynb#X10sZmlsZQ%3D%3D?line=8'>9</a>\u001b[0m \u001b[39m# Example 2: Double Negation Law\u001b[39;00m\n\u001b[1;32m     <a href='vscode-notebook-cell:/Users/queencage/Desktop/KC%20Code%20CSB301%202023%3A24/CSB-Assignments/A3-LogEqNormForm.ipynb#X10sZmlsZQ%3D%3D?line=9'>10</a>\u001b[0m \u001b[39m###### define expr1 and expr2 here\u001b[39;00m\n\u001b[1;32m     <a href='vscode-notebook-cell:/Users/queencage/Desktop/KC%20Code%20CSB301%202023%3A24/CSB-Assignments/A3-LogEqNormForm.ipynb#X10sZmlsZQ%3D%3D?line=10'>11</a>\u001b[0m \u001b[39mprint\u001b[39m(\u001b[39m\"\u001b[39m\u001b[39m\\n\u001b[39;00m\u001b[39mExample 2 - Double Negation Law:\u001b[39m\u001b[39m\"\u001b[39m)\n",
      "\u001b[0;31mNameError\u001b[0m: name 'test_logical_equivalence' is not defined"
     ]
    }
   ],
   "source": [
    "# Step 1: Define the symbols 'a', 'b', and 'c'\n",
    "a, b, c = symbols('a b c')\n",
    "\n",
    "# Example 1: Idempotent Laws\n",
    "###### define expr1 and expr2 here\n",
    "print(\"Example 1 - Idempotent Laws:\")\n",
    "print(test_logical_equivalence(expr1, expr2))\n",
    "\n",
    "# Example 2: Double Negation Law\n",
    "###### define expr1 and expr2 here\n",
    "print(\"\\nExample 2 - Double Negation Law:\")\n",
    "print(test_logical_equivalence(expr1, expr2))\n",
    "\n",
    "# Example 3: Negation Laws\n",
    "###### define expr1 and expr2 here\n",
    "print(\"\\nExample 3 - Negation Laws:\")\n",
    "print(test_logical_equivalence(expr1, expr2))\n",
    "\n",
    "# Example 4: Commutative Laws\n",
    "###### define expr1 and expr2 here\n",
    "print(\"\\nExample 4 - Commutative Laws:\")\n",
    "print(test_logical_equivalence(expr1, expr2))\n",
    "\n",
    "# Example 5: Associative Laws\n",
    "###### define expr1 and expr2 here\n",
    "print(\"\\nExample 5 - Associative Laws:\")\n",
    "print(test_logical_equivalence(expr1, expr2))\n",
    "\n",
    "# Example 6: Distributive Laws\n",
    "###### define expr1 and expr2 here\n",
    "print(\"\\nExample 6 - Distributive Laws:\")\n",
    "print(test_logical_equivalence(expr1, expr2))\n",
    "\n",
    "# Example 7: Absorption Laws\n",
    "###### define expr1 and expr2 here\n",
    "print(\"\\nExample 7 - Absorption Laws:\")\n",
    "print(test_logical_equivalence(expr1, expr2))\n",
    "\n",
    "# Example 8: Conditional Disjunction Equivalence\n",
    "###### define expr1 and expr2 here\n",
    "print(\"\\nExample 8 - Conditional Disjunction Equivalence:\")\n",
    "print(test_logical_equivalence(expr1, expr2))\n",
    "\n",
    "# Example 9: De Morgan's Laws\n",
    "###### define expr1 and expr2 here\n",
    "print(\"\\nExample 9 - De Morgan's Laws:\")\n",
    "print(\"Law 1: \" + str(test_logical_equivalence(expr1, expr2)))\n",
    "print(\"Law 2: \" + str(test_logical_equivalence(expr3, expr4)))"
   ]
  },
  {
   "cell_type": "markdown",
   "metadata": {},
   "source": [
    "### 3: Sum of Products (Minterms) and Product of Sums (Maxterms)    \n",
    "For this exercise, you will be given the line numbers of the minterms and maxterms. Use SymPy to determine what the SOP Form is and what the POS form is.\n",
    "1. Minterms: 0, 1, 2, 3, 6, 7, 8, 9, 10, 11, 14, 15\n",
    "2. Minterms: 0, 1, 2, 3, 5, 6, 7, 8, 9, 10, 11, 12, 13, 14, 15\n",
    "3. Minterms: 0, 1, 2, 3, 8, 9, 10, 11\n",
    "4. Maxterms: 0, 1, 2, 5, 7, 10, 13, 15\n",
    "5. Maxterms: 0, 2, 3, 6, 8, 9, 12, 15"
   ]
  },
  {
   "cell_type": "code",
   "execution_count": 9,
   "metadata": {},
   "outputs": [
    {
     "name": "stdout",
     "output_type": "stream",
     "text": [
      "SOP Form:\n",
      "(a & b & c & d) | (a & b & c & ~d) | (a & c & d & ~b) | (b & c & d & ~a) | (a & c & ~b & ~d) | (a & d & ~b & ~c) | (b & c & ~a & ~d) | (c & d & ~a & ~b) | (a & ~b & ~c & ~d) | (c & ~a & ~b & ~d) | (d & ~a & ~b & ~c) | (~a & ~b & ~c & ~d)\n",
      "\n",
      "POS Form:\n",
      "(a | b | c | d) & (a | b | c | ~d) & (a | b | d | ~c) & (b | c | d | ~a) & (a | b | ~c | ~d) & (a | d | ~b | ~c) & (b | c | ~a | ~d) & (b | d | ~a | ~c) & (a | ~b | ~c | ~d) & (b | ~a | ~c | ~d) & (d | ~a | ~b | ~c) & (~a | ~b | ~c | ~d)\n"
     ]
    }
   ],
   "source": [
    "# 1: Minterms: 0, 1, 2, 3, 6, 7, 8, 9, 10, 11, 14, 15\n",
    "from sympy import symbols, Or, And, Not\n",
    "\n",
    "# Define symbols\n",
    "a, b, c, d = symbols('a b c d')\n",
    "\n",
    "# Given minterms\n",
    "minterms = [0, 1, 2, 3, 6, 7, 8, 9, 10, 11, 14, 15]\n",
    "\n",
    "# Create the SOP expression (logical OR of minterms)\n",
    "sop_terms = []\n",
    "for m in minterms:\n",
    "    binary = format(m, '04b')  # Convert m to binary with 4 bits\n",
    "    term = And()  # Create an AND expression for each minterm\n",
    "    for i, bit in enumerate(binary):\n",
    "        if bit == '0':\n",
    "            term &= Not(vars()[chr(97 + i)])  # Use chr(97 + i) to get variable names (a, b, c, d)\n",
    "        else:\n",
    "            term &= vars()[chr(97 + i)]\n",
    "    sop_terms.append(term)\n",
    "\n",
    "sop_expression = Or(*sop_terms)\n",
    "\n",
    "# Create the POS expression (logical AND of maxterms)\n",
    "pos_terms = []\n",
    "for m in minterms:\n",
    "    binary = format(m, '04b')  # Convert m to binary with 4 bits\n",
    "    term = Or()  # Create an OR expression for each minterm (maxterm)\n",
    "    for i, bit in enumerate(binary):\n",
    "        if bit == '0':\n",
    "            term |= vars()[chr(97 + i)]\n",
    "        else:\n",
    "            term |= Not(vars()[chr(97 + i)])\n",
    "    pos_terms.append(term)\n",
    "\n",
    "pos_expression = And(*pos_terms)\n",
    "\n",
    "print(\"SOP Form:\")\n",
    "print(sop_expression)\n",
    "\n",
    "print(\"\\nPOS Form:\")\n",
    "print(pos_expression)\n",
    "\n"
   ]
  },
  {
   "cell_type": "code",
   "execution_count": 10,
   "metadata": {},
   "outputs": [
    {
     "name": "stdout",
     "output_type": "stream",
     "text": [
      "SOP Form:\n",
      "(a & b & c & d) | (a & b & c & ~d) | (a & b & d & ~c) | (a & c & d & ~b) | (b & c & d & ~a) | (a & b & ~c & ~d) | (a & c & ~b & ~d) | (a & d & ~b & ~c) | (b & c & ~a & ~d) | (b & d & ~a & ~c) | (c & d & ~a & ~b) | (a & ~b & ~c & ~d) | (c & ~a & ~b & ~d) | (d & ~a & ~b & ~c) | (~a & ~b & ~c & ~d)\n",
      "\n",
      "POS Form:\n",
      "(a | b | c | d) & (a | b | c | ~d) & (a | b | d | ~c) & (b | c | d | ~a) & (a | b | ~c | ~d) & (a | c | ~b | ~d) & (a | d | ~b | ~c) & (b | c | ~a | ~d) & (b | d | ~a | ~c) & (c | d | ~a | ~b) & (a | ~b | ~c | ~d) & (b | ~a | ~c | ~d) & (c | ~a | ~b | ~d) & (d | ~a | ~b | ~c) & (~a | ~b | ~c | ~d)\n"
     ]
    }
   ],
   "source": [
    "# 2. Minterms: 0, 1, 2, 3, 5, 6, 7, 8, 9, 10, 11, 12, 13, 14, 15\n",
    "\n",
    "from sympy import symbols, Or, And, Not\n",
    "\n",
    "# Define symbols\n",
    "a, b, c, d = symbols('a b c d')\n",
    "\n",
    "# Given minterms\n",
    "minterms = [0, 1, 2, 3, 5, 6, 7, 8, 9, 10, 11, 12, 13, 14, 15]\n",
    "\n",
    "# Create the SOP expression (logical OR of minterms)\n",
    "sop_terms = []\n",
    "for m in minterms:\n",
    "    binary = format(m, '04b')  # Convert m to binary with 4 bits\n",
    "    term = And()  # Create an AND expression for each minterm\n",
    "    for i, bit in enumerate(binary):\n",
    "        if bit == '0':\n",
    "            term &= Not(vars()[chr(97 + i)])  # Use chr(97 + i) to get variable names (a, b, c, d)\n",
    "        else:\n",
    "            term &= vars()[chr(97 + i)]\n",
    "    sop_terms.append(term)\n",
    "\n",
    "sop_expression = Or(*sop_terms)\n",
    "\n",
    "# Create the POS expression (logical AND of maxterms)\n",
    "pos_terms = []\n",
    "for m in minterms:\n",
    "    binary = format(m, '04b')  # Convert m to binary with 4 bits\n",
    "    term = Or()  # Create an OR expression for each minterm (maxterm)\n",
    "    for i, bit in enumerate(binary):\n",
    "        if bit == '0':\n",
    "            term |= vars()[chr(97 + i)]\n",
    "        else:\n",
    "            term |= Not(vars()[chr(97 + i)])\n",
    "    pos_terms.append(term)\n",
    "\n",
    "pos_expression = And(*pos_terms)\n",
    "\n",
    "print(\"SOP Form:\")\n",
    "print(sop_expression)\n",
    "\n",
    "print(\"\\nPOS Form:\")\n",
    "print(pos_expression)\n",
    "\n"
   ]
  },
  {
   "cell_type": "code",
   "execution_count": 11,
   "metadata": {},
   "outputs": [
    {
     "name": "stdout",
     "output_type": "stream",
     "text": [
      "SOP Form:\n",
      "(a & c & d & ~b) | (a & c & ~b & ~d) | (a & d & ~b & ~c) | (c & d & ~a & ~b) | (a & ~b & ~c & ~d) | (c & ~a & ~b & ~d) | (d & ~a & ~b & ~c) | (~a & ~b & ~c & ~d)\n",
      "\n",
      "POS Form:\n",
      "(a | b | c | d) & (a | b | c | ~d) & (a | b | d | ~c) & (b | c | d | ~a) & (a | b | ~c | ~d) & (b | c | ~a | ~d) & (b | d | ~a | ~c) & (b | ~a | ~c | ~d)\n"
     ]
    }
   ],
   "source": [
    "# 3. Minterms: 0, 1, 2, 3, 8, 9, 10, 11\n",
    "\n",
    "from sympy import symbols, Or, And, Not\n",
    "\n",
    "# Define symbols\n",
    "a, b, c, d = symbols('a b c d')\n",
    "\n",
    "# Given minterms\n",
    "minterms = [0, 1, 2, 3, 8, 9, 10, 11]\n",
    "\n",
    "# Create the SOP expression (logical OR of minterms)\n",
    "sop_terms = []\n",
    "for m in minterms:\n",
    "    binary = format(m, '04b')  # Convert m to binary with 4 bits\n",
    "    term = And()  # Create an AND expression for each minterm\n",
    "    for i, bit in enumerate(binary):\n",
    "        if bit == '0':\n",
    "            term &= Not(vars()[chr(97 + i)])  # Use chr(97 + i) to get variable names (a, b, c, d)\n",
    "        else:\n",
    "            term &= vars()[chr(97 + i)]\n",
    "    sop_terms.append(term)\n",
    "\n",
    "sop_expression = Or(*sop_terms)\n",
    "\n",
    "# Create the POS expression (logical AND of maxterms)\n",
    "pos_terms = []\n",
    "for m in minterms:\n",
    "    binary = format(m, '04b')  # Convert m to binary with 4 bits\n",
    "    term = Or()  # Create an OR expression for each minterm (maxterm)\n",
    "    for i, bit in enumerate(binary):\n",
    "        if bit == '0':\n",
    "            term |= vars()[chr(97 + i)]\n",
    "        else:\n",
    "            term |= Not(vars()[chr(97 + i)])\n",
    "    pos_terms.append(term)\n",
    "\n",
    "pos_expression = And(*pos_terms)\n",
    "\n",
    "print(\"SOP Form:\")\n",
    "print(sop_expression)\n",
    "\n",
    "print(\"\\nPOS Form:\")\n",
    "print(pos_expression)\n"
   ]
  },
  {
   "cell_type": "code",
   "execution_count": 12,
   "metadata": {},
   "outputs": [
    {
     "name": "stdout",
     "output_type": "stream",
     "text": [
      "SOP Form:\n",
      "(a & b & c & ~d) | (a & c & d & ~b) | (a & b & ~c & ~d) | (a & d & ~b & ~c) | (b & c & ~a & ~d) | (c & d & ~a & ~b) | (a & ~b & ~c & ~d) | (b & ~a & ~c & ~d)\n",
      "\n",
      "POS Form:\n",
      "(a | b | c | d) & (a | b | c | ~d) & (a | b | d | ~c) & (a | c | ~b | ~d) & (b | d | ~a | ~c) & (a | ~b | ~c | ~d) & (c | ~a | ~b | ~d) & (~a | ~b | ~c | ~d)\n"
     ]
    }
   ],
   "source": [
    "# 4. Maxterms: 0, 1, 2, 5, 7, 10, 13, 15\n",
    "\n",
    "from sympy import symbols, Or, And, Not\n",
    "\n",
    "# Define symbols\n",
    "a, b, c, d = symbols('a b c d')\n",
    "\n",
    "# Given maxterms\n",
    "maxterms = [0, 1, 2, 5, 7, 10, 13, 15]\n",
    "\n",
    "# Create the SOP expression (logical OR of minterms)\n",
    "sop_terms = []\n",
    "for m in range(16):\n",
    "    if m not in maxterms:\n",
    "        binary = format(m, '04b')  # Convert m to binary with 4 bits\n",
    "        term = And()  # Create an AND expression for each minterm\n",
    "        for i, bit in enumerate(binary):\n",
    "            if bit == '0':\n",
    "                term &= Not(vars()[chr(97 + i)])  # Use chr(97 + i) to get variable names (a, b, c, d)\n",
    "            else:\n",
    "                term &= vars()[chr(97 + i)]\n",
    "        sop_terms.append(term)\n",
    "\n",
    "sop_expression = Or(*sop_terms)\n",
    "\n",
    "# Create the POS expression (logical AND of maxterms)\n",
    "pos_terms = []\n",
    "for m in maxterms:\n",
    "    binary = format(m, '04b')  # Convert m to binary with 4 bits\n",
    "    term = Or()  # Create an OR expression for each minterm (maxterm)\n",
    "    for i, bit in enumerate(binary):\n",
    "        if bit == '0':\n",
    "            term |= vars()[chr(97 + i)]\n",
    "        else:\n",
    "            term |= Not(vars()[chr(97 + i)])\n",
    "    pos_terms.append(term)\n",
    "\n",
    "pos_expression = And(*pos_terms)\n",
    "\n",
    "print(\"SOP Form:\")\n",
    "print(sop_expression)\n",
    "\n",
    "print(\"\\nPOS Form:\")\n",
    "print(pos_expression)\n"
   ]
  },
  {
   "cell_type": "code",
   "execution_count": 13,
   "metadata": {},
   "outputs": [
    {
     "name": "stdout",
     "output_type": "stream",
     "text": [
      "SOP Form:\n",
      "(a & b & c & ~d) | (a & b & d & ~c) | (a & c & d & ~b) | (b & c & d & ~a) | (a & c & ~b & ~d) | (b & d & ~a & ~c) | (b & ~a & ~c & ~d) | (d & ~a & ~b & ~c)\n",
      "\n",
      "POS Form:\n",
      "(a | b | c | d) & (a | b | d | ~c) & (b | c | d | ~a) & (a | b | ~c | ~d) & (a | d | ~b | ~c) & (b | c | ~a | ~d) & (c | d | ~a | ~b) & (~a | ~b | ~c | ~d)\n"
     ]
    }
   ],
   "source": [
    "# 5. Maxterms: 0, 2, 3, 6, 8, 9, 12, 15\n",
    "\n",
    "from sympy import symbols, Or, And, Not\n",
    "\n",
    "# Define symbols\n",
    "a, b, c, d = symbols('a b c d')\n",
    "\n",
    "# Given maxterms\n",
    "maxterms = [0, 2, 3, 6, 8, 9, 12, 15]\n",
    "\n",
    "# Create the SOP expression (logical OR of minterms)\n",
    "sop_terms = []\n",
    "for m in range(16):\n",
    "    if m not in maxterms:\n",
    "        binary = format(m, '04b')  # Convert m to binary with 4 bits\n",
    "        term = And()  # Create an AND expression for each minterm\n",
    "        for i, bit in enumerate(binary):\n",
    "            if bit == '0':\n",
    "                term &= Not(vars()[chr(97 + i)])  # Use chr(97 + i) to get variable names (a, b, c, d)\n",
    "            else:\n",
    "                term &= vars()[chr(97 + i)]\n",
    "        sop_terms.append(term)\n",
    "\n",
    "sop_expression = Or(*sop_terms)\n",
    "\n",
    "# Create the POS expression (logical AND of maxterms)\n",
    "pos_terms = []\n",
    "for m in maxterms:\n",
    "    binary = format(m, '04b')  # Convert m to binary with 4 bits\n",
    "    term = Or()  # Create an OR expression for each minterm (maxterm)\n",
    "    for i, bit in enumerate(binary):\n",
    "        if bit == '0':\n",
    "            term |= vars()[chr(97 + i)]\n",
    "        else:\n",
    "            term |= Not(vars()[chr(97 + i)])\n",
    "    pos_terms.append(term)\n",
    "\n",
    "pos_expression = And(*pos_terms)\n",
    "\n",
    "print(\"SOP Form:\")\n",
    "print(sop_expression)\n",
    "\n",
    "print(\"\\nPOS Form:\")\n",
    "print(pos_expression)\n"
   ]
  },
  {
   "cell_type": "markdown",
   "metadata": {},
   "source": [
    "### 4: Conjective Normal Form and Disjunctive Normal Form     \n",
    "Write a script that will test is expressions are in CNF and DNF form. If it is in either, print that its already in that correct form. If it is not, convert it to the appropriate form and print out the result. Show the original expression each time. The following are the expressions:\n",
    "1. (a and b) or (b and c)\n",
    "2. (p or q) and (not p or q or r)\n",
    "3. (x and y) or (not y and z)\n"
   ]
  },
  {
   "cell_type": "code",
   "execution_count": 18,
   "metadata": {},
   "outputs": [
    {
     "name": "stdout",
     "output_type": "stream",
     "text": [
      "Original Expression:\n",
      "(a & b) | (b & c)\n",
      "The expression is already in CNF.\n",
      "CNF Form:\n",
      "b & (a | b) & (a | c) & (b | c)\n",
      "The expression is already in DNF.\n",
      "DNF Form:\n",
      "(a & b) | (b & c)\n"
     ]
    }
   ],
   "source": [
    "# 1: (a and b) or (b and c)\n",
    "from sympy import symbols, Or, And, Not, to_cnf, to_dnf\n",
    "\n",
    "# Define symbols\n",
    "a, b, c = symbols('a b c')\n",
    "\n",
    "# Given expression\n",
    "expression = Or(And(a, b), And(b, c))\n",
    "\n",
    "# Print the original expression\n",
    "print(\"Original Expression:\")\n",
    "print(expression)\n",
    "\n",
    "# Check if the expression is in CNF\n",
    "try:\n",
    "    cnf_expression = to_cnf(expression)\n",
    "    print(\"The expression is already in CNF.\")\n",
    "    print(\"CNF Form:\")\n",
    "    print(cnf_expression)\n",
    "except ValueError:\n",
    "    # Convert to CNF and print the result\n",
    "    cnf_expression = to_cnf(expression)\n",
    "    print(\"Converted to CNF:\")\n",
    "    print(cnf_expression)\n",
    "\n",
    "# Check if the expression is in DNF\n",
    "try:\n",
    "    dnf_expression = to_dnf(expression)\n",
    "    print(\"The expression is already in DNF.\")\n",
    "    print(\"DNF Form:\")\n",
    "    print(dnf_expression)\n",
    "except ValueError:\n",
    "    # Convert to DNF and print the result\n",
    "    dnf_expression = to_dnf(expression)\n",
    "    print(\"Converted to DNF:\")\n",
    "    print(dnf_expression)\n"
   ]
  },
  {
   "cell_type": "code",
   "execution_count": 19,
   "metadata": {},
   "outputs": [
    {
     "name": "stdout",
     "output_type": "stream",
     "text": [
      "Original Expression:\n",
      "(p | q) & (q | r | ~p)\n",
      "The expression is already in CNF.\n",
      "CNF Form:\n",
      "(p | q) & (q | r | ~p)\n",
      "The expression is already in DNF.\n",
      "DNF Form:\n",
      "q | (p & q) | (p & r) | (q & r) | (p & ~p) | (q & ~p)\n"
     ]
    }
   ],
   "source": [
    "# 2: (p or q) and (not p or q or r)\n",
    "from sympy import symbols, Or, And, Not, to_cnf, to_dnf\n",
    "\n",
    "# Define symbols\n",
    "p, q, r = symbols('p q r')\n",
    "\n",
    "# Given expression\n",
    "expression = And(Or(p, q), Or(Not(p), q, r))\n",
    "\n",
    "# Print the original expression\n",
    "print(\"Original Expression:\")\n",
    "print(expression)\n",
    "\n",
    "# Check if the expression is in CNF\n",
    "try:\n",
    "    cnf_expression = to_cnf(expression)\n",
    "    print(\"The expression is already in CNF.\")\n",
    "    print(\"CNF Form:\")\n",
    "    print(cnf_expression)\n",
    "except ValueError:\n",
    "    # Convert to CNF and print the result\n",
    "    cnf_expression = to_cnf(expression)\n",
    "    print(\"Converted to CNF:\")\n",
    "    print(cnf_expression)\n",
    "\n",
    "# Check if the expression is in DNF\n",
    "try:\n",
    "    dnf_expression = to_dnf(expression)\n",
    "    print(\"The expression is already in DNF.\")\n",
    "    print(\"DNF Form:\")\n",
    "    print(dnf_expression)\n",
    "except ValueError:\n",
    "    # Convert to DNF and print the result\n",
    "    dnf_expression = to_dnf(expression)\n",
    "    print(\"Converted to DNF:\")\n",
    "    print(dnf_expression)\n"
   ]
  },
  {
   "cell_type": "code",
   "execution_count": 20,
   "metadata": {},
   "outputs": [
    {
     "name": "stdout",
     "output_type": "stream",
     "text": [
      "Original Expression:\n",
      "(x & y) | (z & ~y)\n",
      "The expression is already in CNF.\n",
      "CNF Form:\n",
      "(x | z) & (y | z) & (x | ~y) & (y | ~y)\n",
      "The expression is already in DNF.\n",
      "DNF Form:\n",
      "(x & y) | (z & ~y)\n"
     ]
    }
   ],
   "source": [
    "# 3: (x and y) or (not y and z)\n",
    "from sympy import symbols, Or, And, Not, to_cnf, to_dnf\n",
    "\n",
    "# Define symbols\n",
    "x, y, z = symbols('x y z')\n",
    "\n",
    "# Given expression\n",
    "expression = Or(And(x, y), And(Not(y), z))\n",
    "\n",
    "# Print the original expression\n",
    "print(\"Original Expression:\")\n",
    "print(expression)\n",
    "\n",
    "# Check if the expression is in CNF\n",
    "try:\n",
    "    cnf_expression = to_cnf(expression)\n",
    "    print(\"The expression is already in CNF.\")\n",
    "    print(\"CNF Form:\")\n",
    "    print(cnf_expression)\n",
    "except ValueError:\n",
    "    # Convert to CNF and print the result\n",
    "    cnf_expression = to_cnf(expression)\n",
    "    print(\"Converted to CNF:\")\n",
    "    print(cnf_expression)\n",
    "\n",
    "# Check if the expression is in DNF\n",
    "try:\n",
    "    dnf_expression = to_dnf(expression)\n",
    "    print(\"The expression is already in DNF.\")\n",
    "    print(\"DNF Form:\")\n",
    "    print(dnf_expression)\n",
    "except ValueError:\n",
    "    # Convert to DNF and print the result\n",
    "    dnf_expression = to_dnf(expression)\n",
    "    print(\"Converted to DNF:\")\n",
    "    print(dnf_expression)\n"
   ]
  },
  {
   "cell_type": "markdown",
   "metadata": {},
   "source": [
    "### 5: Satisfiability\n",
    "Use SymPy to test for satisfiability on these expressions and print out whether they are satisfiable or not. If it is satisfiable, show what the True and False values have to be to make it satisfiable.\n",
    "1. (a and b) or (not a and b) or (c and not b)\n",
    "2. (p or q) and (not p or q or r)\n",
    "3. (x and y) or (not y and z)"
   ]
  },
  {
   "cell_type": "code",
   "execution_count": 1,
   "metadata": {},
   "outputs": [
    {
     "name": "stdout",
     "output_type": "stream",
     "text": [
      "The expression is satisfiable.\n",
      "Satisfying assignments:\n",
      "c: True\n",
      "b: True\n",
      "a: False\n"
     ]
    }
   ],
   "source": [
    "# 1 (a and b) or (not a and b) or (c and not b)\n",
    "from sympy import symbols, Or, And, Not, satisfiable\n",
    "\n",
    "# Define symbols\n",
    "a, b, c = symbols('a b c')\n",
    "\n",
    "# Define the expression\n",
    "expression = Or(And(a, b), And(Not(a), b), And(c, Not(b)))\n",
    "\n",
    "# Check for satisfiability\n",
    "model = satisfiable(expression)\n",
    "\n",
    "if model:\n",
    "    print(\"The expression is satisfiable.\")\n",
    "    print(\"Satisfying assignments:\")\n",
    "    for symbol, value in model.items():\n",
    "        print(f\"{symbol}: {value}\")\n",
    "else:\n",
    "    print(\"The expression is not satisfiable.\")\n"
   ]
  },
  {
   "cell_type": "code",
   "execution_count": 2,
   "metadata": {},
   "outputs": [
    {
     "name": "stdout",
     "output_type": "stream",
     "text": [
      "The expression is satisfiable.\n",
      "Satisfying assignments:\n",
      "q: True\n",
      "r: True\n",
      "p: False\n"
     ]
    }
   ],
   "source": [
    "# 2: (p or q) and (not p or q or r)\n",
    "from sympy import symbols, Or, And, Not, satisfiable\n",
    "\n",
    "# Define symbols\n",
    "p, q, r = symbols('p q r')\n",
    "\n",
    "# Define the expression\n",
    "expression = And(Or(p, q), Or(Not(p), q, r))\n",
    "\n",
    "# Check for satisfiability\n",
    "model = satisfiable(expression)\n",
    "\n",
    "if model:\n",
    "    print(\"The expression is satisfiable.\")\n",
    "    print(\"Satisfying assignments:\")\n",
    "    for symbol, value in model.items():\n",
    "        print(f\"{symbol}: {value}\")\n",
    "else:\n",
    "    print(\"The expression is not satisfiable.\")\n"
   ]
  },
  {
   "cell_type": "code",
   "execution_count": 3,
   "metadata": {},
   "outputs": [
    {
     "name": "stdout",
     "output_type": "stream",
     "text": [
      "The expression is satisfiable.\n",
      "Satisfying assignments:\n",
      "z: True\n",
      "x: True\n",
      "y: False\n"
     ]
    }
   ],
   "source": [
    "# 3: (x and y) or (not y and z)\n",
    "from sympy import symbols, Or, And, Not, satisfiable\n",
    "\n",
    "# Define symbols\n",
    "x, y, z = symbols('x y z')\n",
    "\n",
    "# Define the expression\n",
    "expression = Or(And(x, y), And(Not(y), z))\n",
    "\n",
    "# Check for satisfiability\n",
    "model = satisfiable(expression)\n",
    "\n",
    "if model:\n",
    "    print(\"The expression is satisfiable.\")\n",
    "    print(\"Satisfying assignments:\")\n",
    "    for symbol, value in model.items():\n",
    "        print(f\"{symbol}: {value}\")\n",
    "else:\n",
    "    print(\"The expression is not satisfiable.\")\n"
   ]
  }
 ],
 "metadata": {
  "kernelspec": {
   "display_name": ".venv",
   "language": "python",
   "name": "python3"
  },
  "language_info": {
   "codemirror_mode": {
    "name": "ipython",
    "version": 3
   },
   "file_extension": ".py",
   "mimetype": "text/x-python",
   "name": "python",
   "nbconvert_exporter": "python",
   "pygments_lexer": "ipython3",
   "version": "3.9.7"
  },
  "orig_nbformat": 4
 },
 "nbformat": 4,
 "nbformat_minor": 2
}
